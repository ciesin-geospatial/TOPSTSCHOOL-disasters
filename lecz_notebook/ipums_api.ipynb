{
 "cells": [
  {
   "cell_type": "code",
   "execution_count": 1,
   "metadata": {},
   "outputs": [],
   "source": [
    "from ipumspy import readers, ddi, IpumsApiClient, AggregateDataExtract, Dataset, DatasetMetadata\n",
    "from dotenv import load_dotenv\n",
    "import pandas as pd\n",
    "import matplotlib.pyplot as plt\n",
    "import matplotlib.colors as colors\n",
    "import os\n",
    "from matplotlib.ticker import FuncFormatter\n",
    "import arcgis\n",
    "from arcgis.gis import GIS\n",
    "from arcgis.map import Map\n",
    "from arcgis.raster import Raster\n",
    "from arcgis.features import GeoAccessor\n",
    "import geopandas as gpd\n",
    "import glob\n",
    "from zipfile import ZipFile\n",
    "import earthaccess as ea\n",
    "import requests\n",
    "import pprint"
   ]
  },
  {
   "cell_type": "code",
   "execution_count": 9,
   "metadata": {},
   "outputs": [
    {
     "data": {
      "text/plain": [
       "'2.4.0'"
      ]
     },
     "execution_count": 9,
     "metadata": {},
     "output_type": "execute_result"
    }
   ],
   "source": [
    "arcgis.__version__"
   ]
  },
  {
   "cell_type": "code",
   "execution_count": 2,
   "metadata": {},
   "outputs": [],
   "source": [
    "#Load the IPUMS API key from the .env file\n",
    "\n",
    "load_dotenv()\n",
    "\n",
    "IPUMS_API_KEY = os.getenv(\"IPUMS_API_KEY\")\n",
    "ipums = IpumsApiClient(IPUMS_API_KEY)"
   ]
  },
  {
   "cell_type": "code",
   "execution_count": null,
   "metadata": {},
   "outputs": [],
   "source": [
    "#Submit pulling to IPUMS \n",
    "\n",
    "extract = AggregateDataExtract(\n",
    "    collection=\"nhgis\",\n",
    "    description=\"Puerto Rico 2010-2020 vacancy\",\n",
    "    datasets=[\n",
    "        Dataset(name=\"2010_SF1a\", data_tables=[\"H1\", \"H3\"], geog_levels=[\"block\"]),\n",
    "        Dataset(name = \"2020_DHCa\", data_tables = [\"H1\", \"H3\"], geog_levels = [\"block\"])\n",
    "    ],\n",
    "    geographic_extents=[\"720\"],\n",
    "    shapefiles=[\"720_block_2020_tl2020\"]\n",
    ")"
   ]
  },
  {
   "cell_type": "code",
   "execution_count": null,
   "metadata": {},
   "outputs": [
    {
     "name": "stdout",
     "output_type": "stream",
     "text": [
      "Name: 720_block_2000_tl2010 | Year: 2000\n",
      "Name: 720_block_2010_tl2010 | Year: 2010\n",
      "Name: 720_block_2010_tl2020 | Year: 2010\n",
      "Name: 720_block_2020_tl2020 | Year: 2020\n"
     ]
    }
   ],
   "source": [
    "#Getting shapefile metadata\n",
    "\n",
    "ds = ipums.get_metadata(DatasetMetadata(\"nhgis\", \"2010_SF1a\"))\n",
    "for page in ipums.get_metadata_catalog(\"nhgis\", metadata_type=\"shapefiles\"):\n",
    "    for shapefile in page[\"data\"]:\n",
    "        if shapefile[\"extent\"] == \"Puerto Rico\" and shapefile[\"geographicLevel\"] == \"Block\":\n",
    "            print( \"Name: \" + shapefile[\"name\"] + \" | Year: \" + shapefile[\"year\"])"
   ]
  },
  {
   "cell_type": "code",
   "execution_count": null,
   "metadata": {},
   "outputs": [
    {
     "name": "stdout",
     "output_type": "stream",
     "text": [
      "Extract ID: 13\n"
     ]
    }
   ],
   "source": [
    "#Submit the extract request\n",
    "ipums.submit_extract(extract)\n",
    "print(f\"Extract ID: {extract.extract_id}\")\n",
    "\n",
    "#Wait for the extract to finish\n",
    "ipums.wait_for_extract(extract)\n",
    "\n",
    "#Download the extract\n",
    "current = os.getcwd()\n",
    "DOWNLOAD_DIR = os.path.join(f\"{current}/data\")\n",
    "ipums.download_extract(extract, download_dir=DOWNLOAD_DIR)"
   ]
  },
  {
   "cell_type": "code",
   "execution_count": 3,
   "metadata": {},
   "outputs": [],
   "source": [
    "#Reading from zip file\n",
    "\n",
    "current = os.getcwd()\n",
    "DOWNLOAD_DIR = os.path.join(f\"{current}/data\")\n",
    "\n",
    "file_list = os.listdir(DOWNLOAD_DIR)\n",
    "csv_zip = [f for f in file_list if f.endswith('_csv.zip')]\n",
    "shape_zip = [f for f in file_list if f.endswith('_shape.zip')]\n",
    "csv = f\"{DOWNLOAD_DIR}/{csv_zip[0]}\" \n",
    "shapefile = f\"{DOWNLOAD_DIR}/{shape_zip[0]}\"\n",
    "csv_data = ZipFile(csv).namelist()\n",
    "shape_data = ZipFile(shapefile).namelist()"
   ]
  },
  {
   "cell_type": "code",
   "execution_count": null,
   "metadata": {},
   "outputs": [
    {
     "name": "stdout",
     "output_type": "stream",
     "text": [
      "['nhgis0013_csv/nhgis0013_ds258_2020_block.csv', 'nhgis0013_csv/nhgis0013_ds258_2020_block_codebook.txt', 'nhgis0013_csv/nhgis0013_ds172_2010_block.csv', 'nhgis0013_csv/nhgis0013_ds172_2010_block_codebook.txt']\n",
      "['nhgis0013_shape/nhgis0013_shapefile_tl2020_720_block_2020.zip']\n"
     ]
    }
   ],
   "source": [
    "# Check what is inside the zip\n",
    "print(csv_data)\n",
    "print(shape_data)"
   ]
  },
  {
   "cell_type": "code",
   "execution_count": 4,
   "metadata": {},
   "outputs": [],
   "source": [
    "# Read zip data file in the extract\n",
    "with ZipFile(shapefile) as outer_zip: # Shapefile data has 2 zipped layers\n",
    "    with outer_zip.open(shape_data[0]) as inner_zip:\n",
    "        with ZipFile(inner_zip) as inner:\n",
    "            inner.extractall(DOWNLOAD_DIR) #Extract the shapefile into the data folder\n",
    "            "
   ]
  },
  {
   "cell_type": "code",
   "execution_count": 4,
   "metadata": {},
   "outputs": [],
   "source": [
    "#Read csv data\n",
    "\n",
    "with ZipFile(csv) as z:\n",
    "    with z.open(csv_data[0]) as f: \n",
    "        df_2020 = pd.read_csv(f)\n",
    "    with z.open(csv_data[2]) as f:\n",
    "        df_2010 = pd.read_csv(f)"
   ]
  },
  {
   "cell_type": "code",
   "execution_count": 5,
   "metadata": {},
   "outputs": [],
   "source": [
    "shp_df = pd.DataFrame.spatial.from_featureclass(location = \"./data/PR_block_2020.shp\", sr = 3857)"
   ]
  },
  {
   "cell_type": "code",
   "execution_count": 6,
   "metadata": {},
   "outputs": [
    {
     "name": "stdout",
     "output_type": "stream",
     "text": [
      "{   'concept-id': 'C1000000400-SEDAC',\n",
      "    'file-type': \"[{'Format': 'CSV', 'Fees': '0'}, {'Format': 'Excel', 'Fees': \"\n",
      "                 \"'0'}, {'Format': 'PDF', 'Fees': '0'}, {'Format': 'PNG', \"\n",
      "                 \"'Fees': '0'}, {'Format': 'WMS', 'Fees': '0'}]\",\n",
      "    'get-data': [   'https://search.earthdata.nasa.gov/search/granules?p=C1000000400-SEDAC'],\n",
      "    'short-name': 'CIESIN_SEDAC_LECZ_URPLAEV2',\n",
      "    'version': '2.00'}\n",
      "\n",
      "{   'concept-id': 'C3104974973-SEDAC',\n",
      "    'file-type': \"[{'Format': 'Excel', 'Fees': '0'}, {'Format': 'PDF', 'Fees': \"\n",
      "                 \"'0'}, {'Format': 'PNG', 'Fees': '0'}]\",\n",
      "    'get-data': [   'https://search.earthdata.nasa.gov/search/granules?p=C3104974973-SEDAC'],\n",
      "    'short-name': 'CIESIN_SEDAC_LECZ_DELTA_V1',\n",
      "    'version': '1.00'}\n",
      "\n",
      "{   'concept-id': 'C2187533258-SEDAC',\n",
      "    'file-type': \"[{'Format': 'Excel', 'Fees': '0'}, {'Format': 'GeoTIFF', \"\n",
      "                 \"'Fees': '0'}, {'Format': 'PDF', 'Fees': '0'}, {'Format': \"\n",
      "                 \"'PNG', 'Fees': '0'}]\",\n",
      "    'get-data': [   'https://search.earthdata.nasa.gov/search/granules?p=C2187533258-SEDAC'],\n",
      "    'short-name': 'CIESIN_SEDAC_LECZ_URPLAEV3',\n",
      "    'version': '3.00'}\n",
      "\n",
      "{   'concept-id': 'C179002007-SEDAC',\n",
      "    'file-type': \"[{'Format': 'Excel', 'Fees': '0'}, {'Format': 'PDF', 'Fees': \"\n",
      "                 \"'0'}, {'Format': 'PNG', 'Fees': '0'}]\",\n",
      "    'get-data': [   'https://search.earthdata.nasa.gov/search/granules?p=C179002007-SEDAC'],\n",
      "    'short-name': 'CIESIN_SEDAC_LECZ_URPEV1',\n",
      "    'version': '1.00'}\n",
      "\n",
      "{   'concept-id': 'C1000000260-SEDAC',\n",
      "    'file-type': \"[{'Format': 'Excel', 'Fees': '0'}, {'Format': 'WMS', 'Fees': \"\n",
      "                 \"'0'}]\",\n",
      "    'get-data': [   'https://search.earthdata.nasa.gov/search/granules?p=C1000000260-SEDAC'],\n",
      "    'short-name': 'CIESIN_SEDAC_LECZ_SLRIRAMSARWII',\n",
      "    'version': '1.00'}\n",
      "\n"
     ]
    }
   ],
   "source": [
    "## Using earthaccess to search and find \n",
    "\n",
    "url = \"https://cmr.earthdata.nasa.gov/search/collections?concept_id[]=C123456-LPDAAC_ECS\"\n",
    "\n",
    "query = ea.search_datasets(keyword = \"LECZ\")\n",
    "for collection in query[:10]:\n",
    "    pprint.pprint(collection.summary(), sort_dicts=True, indent=4)\n",
    "    print('')  # Add a space between collections for readability"
   ]
  },
  {
   "cell_type": "code",
   "execution_count": null,
   "metadata": {},
   "outputs": [
    {
     "name": "stdout",
     "output_type": "stream",
     "text": [
      "Granule hits: 2\n"
     ]
    },
    {
     "data": {
      "application/vnd.jupyter.widget-view+json": {
       "model_id": "e6e135b44de54a64bd757a8869ab2f59",
       "version_major": 2,
       "version_minor": 0
      },
      "text/plain": [
       "QUEUEING TASKS | :   0%|          | 0/1 [00:00<?, ?it/s]"
      ]
     },
     "metadata": {},
     "output_type": "display_data"
    },
    {
     "data": {
      "application/vnd.jupyter.widget-view+json": {
       "model_id": "f922d2558cf64ad2a694b521c8c7f939",
       "version_major": 2,
       "version_minor": 0
      },
      "text/plain": [
       "PROCESSING TASKS | :   0%|          | 0/1 [00:00<?, ?it/s]"
      ]
     },
     "metadata": {},
     "output_type": "display_data"
    },
    {
     "data": {
      "application/vnd.jupyter.widget-view+json": {
       "model_id": "1f305ff41a50442ea6724d35b42aed5d",
       "version_major": 2,
       "version_minor": 0
      },
      "text/plain": [
       "COLLECTING RESULTS | :   0%|          | 0/1 [00:00<?, ?it/s]"
      ]
     },
     "metadata": {},
     "output_type": "display_data"
    }
   ],
   "source": [
    "# #Login to the Earthdata\n",
    "# # Create a username and password in .env file where you stored IPUMS API key\n",
    "# auth = ea.login(strategy= \"environment\")\n",
    "\n",
    "# #Download the data through the Earthdata\n",
    "# Query = (\n",
    "#     ea.granule_query()\n",
    "#     .short_name(\"CIESIN_SEDAC_LECZ_URPLAEV3\")\n",
    "#     .debug(True)\n",
    "# )\n",
    "\n",
    "# print(f\"Granule hits: {Query.hits()}\")\n",
    "\n",
    "# # Get the first 10 granules\n",
    "# granules = Query.get(10)\n",
    "\n",
    "# #Check if the granules are cloud hosted\n",
    "# granules[1].cloud_hosted\n",
    "# download_file = ea.download(granules[1], local_path=\"./data\")"
   ]
  },
  {
   "cell_type": "code",
   "execution_count": 7,
   "metadata": {},
   "outputs": [],
   "source": [
    "#Load data to the notebook\n",
    "\n",
    "tiff = [f for f in file_list if f.endswith('-geotiff.zip')]\n",
    "\n",
    "tiff_path = os.path.join(f\"{DOWNLOAD_DIR}/{tiff[0]}\")\n",
    "\n",
    "\n",
    "with ZipFile(tiff_path) as z:\n",
    "    z.extractall(DOWNLOAD_DIR)"
   ]
  },
  {
   "cell_type": "code",
   "execution_count": 21,
   "metadata": {},
   "outputs": [
    {
     "data": {
      "text/plain": [
       "['nhgis0013_csv.zip',\n",
       " 'nhgis0013_shape.zip',\n",
       " 'PR_block_2020.cpg',\n",
       " 'PR_block_2020.dbf',\n",
       " 'PR_block_2020.GISJOIN.atx',\n",
       " 'PR_block_2020.prj',\n",
       " 'PR_block_2020.sbn',\n",
       " 'PR_block_2020.sbx',\n",
       " 'PR_block_2020.shp',\n",
       " 'PR_block_2020.shp.xml',\n",
       " 'PR_block_2020.shx']"
      ]
     },
     "execution_count": 21,
     "metadata": {},
     "output_type": "execute_result"
    }
   ],
   "source": [
    "file_list"
   ]
  },
  {
   "cell_type": "code",
   "execution_count": 6,
   "metadata": {},
   "outputs": [
    {
     "data": {
      "text/plain": [
       "((77189, 62), (41987, 63), (41320, 21))"
      ]
     },
     "execution_count": 6,
     "metadata": {},
     "output_type": "execute_result"
    }
   ],
   "source": [
    "df_2010.shape, df_2020.shape, shp_df.shape"
   ]
  },
  {
   "cell_type": "code",
   "execution_count": null,
   "metadata": {},
   "outputs": [
    {
     "data": {
      "text/html": [
       "<div>\n",
       "<style scoped>\n",
       "    .dataframe tbody tr th:only-of-type {\n",
       "        vertical-align: middle;\n",
       "    }\n",
       "\n",
       "    .dataframe tbody tr th {\n",
       "        vertical-align: top;\n",
       "    }\n",
       "\n",
       "    .dataframe thead th {\n",
       "        text-align: right;\n",
       "    }\n",
       "</style>\n",
       "<table border=\"1\" class=\"dataframe\">\n",
       "  <thead>\n",
       "    <tr style=\"text-align: right;\">\n",
       "      <th></th>\n",
       "      <th>GISJOIN</th>\n",
       "      <th>YEAR</th>\n",
       "      <th>STUSAB</th>\n",
       "      <th>GEOID</th>\n",
       "      <th>GEOCODE</th>\n",
       "      <th>REGIONA</th>\n",
       "      <th>DIVISIONA</th>\n",
       "      <th>STATE</th>\n",
       "      <th>STATEA</th>\n",
       "      <th>COUNTY</th>\n",
       "      <th>...</th>\n",
       "      <th>NAME</th>\n",
       "      <th>FUNCSTAT</th>\n",
       "      <th>INTPTLAT</th>\n",
       "      <th>INTPTLON</th>\n",
       "      <th>LSADC</th>\n",
       "      <th>UGA</th>\n",
       "      <th>U9V001</th>\n",
       "      <th>U9X001</th>\n",
       "      <th>U9X002</th>\n",
       "      <th>U9X003</th>\n",
       "    </tr>\n",
       "  </thead>\n",
       "  <tbody>\n",
       "    <tr>\n",
       "      <th>0</th>\n",
       "      <td>G72000109563001000</td>\n",
       "      <td>2020</td>\n",
       "      <td>PR</td>\n",
       "      <td>1000000US720019563001000</td>\n",
       "      <td>720019563001000</td>\n",
       "      <td>9</td>\n",
       "      <td>0</td>\n",
       "      <td>Puerto Rico</td>\n",
       "      <td>72</td>\n",
       "      <td>Adjuntas Municipio</td>\n",
       "      <td>...</td>\n",
       "      <td>Block 1000</td>\n",
       "      <td>S</td>\n",
       "      <td>18.231874</td>\n",
       "      <td>-66.771935</td>\n",
       "      <td>BK</td>\n",
       "      <td>99999</td>\n",
       "      <td>68</td>\n",
       "      <td>68</td>\n",
       "      <td>60</td>\n",
       "      <td>8</td>\n",
       "    </tr>\n",
       "    <tr>\n",
       "      <th>1</th>\n",
       "      <td>G72000109563001001</td>\n",
       "      <td>2020</td>\n",
       "      <td>PR</td>\n",
       "      <td>1000000US720019563001001</td>\n",
       "      <td>720019563001001</td>\n",
       "      <td>9</td>\n",
       "      <td>0</td>\n",
       "      <td>Puerto Rico</td>\n",
       "      <td>72</td>\n",
       "      <td>Adjuntas Municipio</td>\n",
       "      <td>...</td>\n",
       "      <td>Block 1001</td>\n",
       "      <td>S</td>\n",
       "      <td>18.220806</td>\n",
       "      <td>-66.776888</td>\n",
       "      <td>BK</td>\n",
       "      <td>99999</td>\n",
       "      <td>46</td>\n",
       "      <td>46</td>\n",
       "      <td>45</td>\n",
       "      <td>1</td>\n",
       "    </tr>\n",
       "    <tr>\n",
       "      <th>2</th>\n",
       "      <td>G72000109563001002</td>\n",
       "      <td>2020</td>\n",
       "      <td>PR</td>\n",
       "      <td>1000000US720019563001002</td>\n",
       "      <td>720019563001002</td>\n",
       "      <td>9</td>\n",
       "      <td>0</td>\n",
       "      <td>Puerto Rico</td>\n",
       "      <td>72</td>\n",
       "      <td>Adjuntas Municipio</td>\n",
       "      <td>...</td>\n",
       "      <td>Block 1002</td>\n",
       "      <td>S</td>\n",
       "      <td>18.221548</td>\n",
       "      <td>-66.782006</td>\n",
       "      <td>BK</td>\n",
       "      <td>99999</td>\n",
       "      <td>22</td>\n",
       "      <td>22</td>\n",
       "      <td>11</td>\n",
       "      <td>11</td>\n",
       "    </tr>\n",
       "    <tr>\n",
       "      <th>3</th>\n",
       "      <td>G72000109563001003</td>\n",
       "      <td>2020</td>\n",
       "      <td>PR</td>\n",
       "      <td>1000000US720019563001003</td>\n",
       "      <td>720019563001003</td>\n",
       "      <td>9</td>\n",
       "      <td>0</td>\n",
       "      <td>Puerto Rico</td>\n",
       "      <td>72</td>\n",
       "      <td>Adjuntas Municipio</td>\n",
       "      <td>...</td>\n",
       "      <td>Block 1003</td>\n",
       "      <td>S</td>\n",
       "      <td>18.218566</td>\n",
       "      <td>-66.764885</td>\n",
       "      <td>BK</td>\n",
       "      <td>99999</td>\n",
       "      <td>43</td>\n",
       "      <td>43</td>\n",
       "      <td>32</td>\n",
       "      <td>11</td>\n",
       "    </tr>\n",
       "    <tr>\n",
       "      <th>4</th>\n",
       "      <td>G72000109563001004</td>\n",
       "      <td>2020</td>\n",
       "      <td>PR</td>\n",
       "      <td>1000000US720019563001004</td>\n",
       "      <td>720019563001004</td>\n",
       "      <td>9</td>\n",
       "      <td>0</td>\n",
       "      <td>Puerto Rico</td>\n",
       "      <td>72</td>\n",
       "      <td>Adjuntas Municipio</td>\n",
       "      <td>...</td>\n",
       "      <td>Block 1004</td>\n",
       "      <td>S</td>\n",
       "      <td>18.213141</td>\n",
       "      <td>-66.761705</td>\n",
       "      <td>BK</td>\n",
       "      <td>99999</td>\n",
       "      <td>31</td>\n",
       "      <td>31</td>\n",
       "      <td>31</td>\n",
       "      <td>0</td>\n",
       "    </tr>\n",
       "  </tbody>\n",
       "</table>\n",
       "<p>5 rows × 63 columns</p>\n",
       "</div>"
      ],
      "text/plain": [
       "              GISJOIN  YEAR STUSAB                     GEOID          GEOCODE  \\\n",
       "0  G72000109563001000  2020     PR  1000000US720019563001000  720019563001000   \n",
       "1  G72000109563001001  2020     PR  1000000US720019563001001  720019563001001   \n",
       "2  G72000109563001002  2020     PR  1000000US720019563001002  720019563001002   \n",
       "3  G72000109563001003  2020     PR  1000000US720019563001003  720019563001003   \n",
       "4  G72000109563001004  2020     PR  1000000US720019563001004  720019563001004   \n",
       "\n",
       "   REGIONA  DIVISIONA        STATE  STATEA              COUNTY  ...  \\\n",
       "0        9          0  Puerto Rico      72  Adjuntas Municipio  ...   \n",
       "1        9          0  Puerto Rico      72  Adjuntas Municipio  ...   \n",
       "2        9          0  Puerto Rico      72  Adjuntas Municipio  ...   \n",
       "3        9          0  Puerto Rico      72  Adjuntas Municipio  ...   \n",
       "4        9          0  Puerto Rico      72  Adjuntas Municipio  ...   \n",
       "\n",
       "         NAME  FUNCSTAT   INTPTLAT   INTPTLON  LSADC    UGA U9V001  U9X001  \\\n",
       "0  Block 1000         S  18.231874 -66.771935     BK  99999     68      68   \n",
       "1  Block 1001         S  18.220806 -66.776888     BK  99999     46      46   \n",
       "2  Block 1002         S  18.221548 -66.782006     BK  99999     22      22   \n",
       "3  Block 1003         S  18.218566 -66.764885     BK  99999     43      43   \n",
       "4  Block 1004         S  18.213141 -66.761705     BK  99999     31      31   \n",
       "\n",
       "   U9X002  U9X003  \n",
       "0      60       8  \n",
       "1      45       1  \n",
       "2      11      11  \n",
       "3      32      11  \n",
       "4      31       0  \n",
       "\n",
       "[5 rows x 63 columns]"
      ]
     },
     "execution_count": 69,
     "metadata": {},
     "output_type": "execute_result"
    }
   ],
   "source": [
    "df_2020.head()"
   ]
  },
  {
   "cell_type": "code",
   "execution_count": 7,
   "metadata": {},
   "outputs": [
    {
     "data": {
      "text/html": [
       "<div>\n",
       "<style scoped>\n",
       "    .dataframe tbody tr th:only-of-type {\n",
       "        vertical-align: middle;\n",
       "    }\n",
       "\n",
       "    .dataframe tbody tr th {\n",
       "        vertical-align: top;\n",
       "    }\n",
       "\n",
       "    .dataframe thead th {\n",
       "        text-align: right;\n",
       "    }\n",
       "</style>\n",
       "<table border=\"1\" class=\"dataframe\">\n",
       "  <thead>\n",
       "    <tr style=\"text-align: right;\">\n",
       "      <th></th>\n",
       "      <th>FID</th>\n",
       "      <th>GISJOIN</th>\n",
       "      <th>STATEFP20</th>\n",
       "      <th>COUNTYFP20</th>\n",
       "      <th>TRACTCE20</th>\n",
       "      <th>BLOCKCE20</th>\n",
       "      <th>GEOID20</th>\n",
       "      <th>NAME20</th>\n",
       "      <th>MTFCC20</th>\n",
       "      <th>UR20</th>\n",
       "      <th>...</th>\n",
       "      <th>INTPTLON20</th>\n",
       "      <th>Shape_Leng</th>\n",
       "      <th>Shape_Area</th>\n",
       "      <th>Shape__Area</th>\n",
       "      <th>Shape__Length</th>\n",
       "      <th>SHAPE</th>\n",
       "      <th>Total_Housing</th>\n",
       "      <th>Total_Housing_Units</th>\n",
       "      <th>Occupied</th>\n",
       "      <th>Vacant</th>\n",
       "    </tr>\n",
       "  </thead>\n",
       "  <tbody>\n",
       "    <tr>\n",
       "      <th>0</th>\n",
       "      <td>1</td>\n",
       "      <td>G72000109563001000</td>\n",
       "      <td>72</td>\n",
       "      <td>001</td>\n",
       "      <td>956300</td>\n",
       "      <td>1000</td>\n",
       "      <td>720019563001000</td>\n",
       "      <td>Block 1000</td>\n",
       "      <td>G5040</td>\n",
       "      <td></td>\n",
       "      <td>...</td>\n",
       "      <td>-066.7719354</td>\n",
       "      <td>15320.205987</td>\n",
       "      <td>5732654.69615</td>\n",
       "      <td>6389121.943359</td>\n",
       "      <td>16135.340919</td>\n",
       "      <td>{\"rings\": [[[-7433468.03304438, 2066025.482938...</td>\n",
       "      <td>68</td>\n",
       "      <td>68</td>\n",
       "      <td>60</td>\n",
       "      <td>8</td>\n",
       "    </tr>\n",
       "    <tr>\n",
       "      <th>1</th>\n",
       "      <td>2</td>\n",
       "      <td>G72000109563001001</td>\n",
       "      <td>72</td>\n",
       "      <td>001</td>\n",
       "      <td>956300</td>\n",
       "      <td>1001</td>\n",
       "      <td>720019563001001</td>\n",
       "      <td>Block 1001</td>\n",
       "      <td>G5040</td>\n",
       "      <td></td>\n",
       "      <td>...</td>\n",
       "      <td>-066.7768876</td>\n",
       "      <td>2695.184677</td>\n",
       "      <td>203981.899808</td>\n",
       "      <td>227312.088867</td>\n",
       "      <td>2809.128561</td>\n",
       "      <td>{\"rings\": [[[-7432871.58310674, 2063230.193913...</td>\n",
       "      <td>46</td>\n",
       "      <td>46</td>\n",
       "      <td>45</td>\n",
       "      <td>1</td>\n",
       "    </tr>\n",
       "    <tr>\n",
       "      <th>2</th>\n",
       "      <td>3</td>\n",
       "      <td>G72000504007002004</td>\n",
       "      <td>72</td>\n",
       "      <td>005</td>\n",
       "      <td>400700</td>\n",
       "      <td>2004</td>\n",
       "      <td>720054007002004</td>\n",
       "      <td>Block 2004</td>\n",
       "      <td>G5040</td>\n",
       "      <td></td>\n",
       "      <td>...</td>\n",
       "      <td>-067.1558524</td>\n",
       "      <td>910.060507</td>\n",
       "      <td>23634.820744</td>\n",
       "      <td>26406.524414</td>\n",
       "      <td>974.914527</td>\n",
       "      <td>{\"rings\": [[[-7475651.00912771, 2090141.650471...</td>\n",
       "      <td>13</td>\n",
       "      <td>13</td>\n",
       "      <td>13</td>\n",
       "      <td>0</td>\n",
       "    </tr>\n",
       "    <tr>\n",
       "      <th>3</th>\n",
       "      <td>4</td>\n",
       "      <td>G72000109563001002</td>\n",
       "      <td>72</td>\n",
       "      <td>001</td>\n",
       "      <td>956300</td>\n",
       "      <td>1002</td>\n",
       "      <td>720019563001002</td>\n",
       "      <td>Block 1002</td>\n",
       "      <td>G5040</td>\n",
       "      <td></td>\n",
       "      <td>...</td>\n",
       "      <td>-066.7820065</td>\n",
       "      <td>3462.974754</td>\n",
       "      <td>510326.461548</td>\n",
       "      <td>568699.155273</td>\n",
       "      <td>3677.834548</td>\n",
       "      <td>{\"rings\": [[[-7433820.24808916, 2063740.115163...</td>\n",
       "      <td>22</td>\n",
       "      <td>22</td>\n",
       "      <td>11</td>\n",
       "      <td>11</td>\n",
       "    </tr>\n",
       "    <tr>\n",
       "      <th>4</th>\n",
       "      <td>5</td>\n",
       "      <td>G72000109563001003</td>\n",
       "      <td>72</td>\n",
       "      <td>001</td>\n",
       "      <td>956300</td>\n",
       "      <td>1003</td>\n",
       "      <td>720019563001003</td>\n",
       "      <td>Block 1003</td>\n",
       "      <td>G5040</td>\n",
       "      <td></td>\n",
       "      <td>...</td>\n",
       "      <td>-066.7648852</td>\n",
       "      <td>2372.120012</td>\n",
       "      <td>144307.637692</td>\n",
       "      <td>160808.522461</td>\n",
       "      <td>2472.028213</td>\n",
       "      <td>{\"rings\": [[[-7431799.01940358, 2062908.965386...</td>\n",
       "      <td>43</td>\n",
       "      <td>43</td>\n",
       "      <td>32</td>\n",
       "      <td>11</td>\n",
       "    </tr>\n",
       "  </tbody>\n",
       "</table>\n",
       "<p>5 rows × 26 columns</p>\n",
       "</div>"
      ],
      "text/plain": [
       "   FID             GISJOIN STATEFP20 COUNTYFP20 TRACTCE20 BLOCKCE20  \\\n",
       "0    1  G72000109563001000        72        001    956300      1000   \n",
       "1    2  G72000109563001001        72        001    956300      1001   \n",
       "2    3  G72000504007002004        72        005    400700      2004   \n",
       "3    4  G72000109563001002        72        001    956300      1002   \n",
       "4    5  G72000109563001003        72        001    956300      1003   \n",
       "\n",
       "           GEOID20      NAME20 MTFCC20 UR20  ...    INTPTLON20    Shape_Leng  \\\n",
       "0  720019563001000  Block 1000   G5040       ...  -066.7719354  15320.205987   \n",
       "1  720019563001001  Block 1001   G5040       ...  -066.7768876   2695.184677   \n",
       "2  720054007002004  Block 2004   G5040       ...  -067.1558524    910.060507   \n",
       "3  720019563001002  Block 1002   G5040       ...  -066.7820065   3462.974754   \n",
       "4  720019563001003  Block 1003   G5040       ...  -066.7648852   2372.120012   \n",
       "\n",
       "      Shape_Area     Shape__Area  Shape__Length  \\\n",
       "0  5732654.69615  6389121.943359   16135.340919   \n",
       "1  203981.899808   227312.088867    2809.128561   \n",
       "2   23634.820744    26406.524414     974.914527   \n",
       "3  510326.461548   568699.155273    3677.834548   \n",
       "4  144307.637692   160808.522461    2472.028213   \n",
       "\n",
       "                                               SHAPE Total_Housing  \\\n",
       "0  {\"rings\": [[[-7433468.03304438, 2066025.482938...            68   \n",
       "1  {\"rings\": [[[-7432871.58310674, 2063230.193913...            46   \n",
       "2  {\"rings\": [[[-7475651.00912771, 2090141.650471...            13   \n",
       "3  {\"rings\": [[[-7433820.24808916, 2063740.115163...            22   \n",
       "4  {\"rings\": [[[-7431799.01940358, 2062908.965386...            43   \n",
       "\n",
       "   Total_Housing_Units  Occupied  Vacant  \n",
       "0                   68        60       8  \n",
       "1                   46        45       1  \n",
       "2                   13        13       0  \n",
       "3                   22        11      11  \n",
       "4                   43        32      11  \n",
       "\n",
       "[5 rows x 26 columns]"
      ]
     },
     "execution_count": 7,
     "metadata": {},
     "output_type": "execute_result"
    }
   ],
   "source": [
    "#Rename the columns the human readable names\n",
    "# The NHGIS codes are as follows in the documentation which is downloaded from the IPUMS API \n",
    "\n",
    "'''    Table 1:     Housing Units\n",
    "    Universe:    Housing units\n",
    "    Source code: H1\n",
    "    NHGIS code:  U9V\n",
    "        U9V001:      Total\n",
    " \n",
    "    Table 2:     Occupancy Status\n",
    "    Universe:    Housing units\n",
    "    Source code: H3\n",
    "    NHGIS code:  U9X\n",
    "        U9X001:      Total\n",
    "        U9X002:      Occupied\n",
    "        U9X003:      Vacant\n",
    "'''\n",
    "\n",
    "# Get the layer from the published data\n",
    "\n",
    "gis = GIS()\n",
    "layer = gis.content.get(\"1322372408e744b7a384cda121be8814\").layers[0] # The layer of PR block 2020\n",
    "sedf = pd.DataFrame.spatial.from_layer(layer) # Convert the layer to a spatial dataframe to use it in the analysis\n",
    "\n",
    "\n",
    "\n",
    "\n",
    "rename = {\n",
    "    \"U9V001\": \"Total_Housing\",\n",
    "    \"U9X001\": \"Total_Housing_Units\",\n",
    "    \"U9X002\": \"Occupied\",\n",
    "    \"U9X003\": \"Vacant\"\n",
    "}\n",
    "\n",
    "df_2010.rename(columns = rename, inplace = True)\n",
    "df_2020.rename(columns = rename, inplace = True)\n",
    "\n",
    "\n",
    "pr_sedf = sedf.merge(df_2020[[\"GISJOIN\", \"Total_Housing\", \"Total_Housing_Units\", \"Occupied\", \"Vacant\"]], on = \"GISJOIN\", how = \"inner\")\n",
    "pr_sedf.head()"
   ]
  },
  {
   "cell_type": "code",
   "execution_count": 8,
   "metadata": {},
   "outputs": [
    {
     "data": {
      "text/html": [
       "<div class=\"item_container\" style=\"height: auto; overflow: hidden; border: 1px solid #cfcfcf; border-radius: 2px; background: #f6fafa; line-height: 1.21429em; padding: 10px;\">\n",
       "                    <div class=\"item_left\" style=\"width: 210px; float: left;\">\n",
       "                       <a href='https://www.arcgis.com/home/item.html?id=87f875a0e4ac4400bad9063c18520f9a' target='_blank'>\n",
       "                        <img src='https://www.arcgis.com/sharing/rest//content/items/87f875a0e4ac4400bad9063c18520f9a/info/thumbnail/thumbnail1694622749840.png' class=\"itemThumbnail\">\n",
       "                       </a>\n",
       "                    </div>\n",
       "\n",
       "                    <div class=\"item_right\"     style=\"float: none; width: auto; overflow: hidden;\">\n",
       "                        <a href='https://www.arcgis.com/home/item.html?id=87f875a0e4ac4400bad9063c18520f9a' target='_blank'><b>Low Elevation Coastal Zones derived from MERIT-DEM</b>\n",
       "                        </a>\n",
       "                        <br/>Low Elevation Coastal Zone (LECZ) Urban-Rural Population and Land Area Estimates, Version 3. Published on: 2021-12-14. Created by Center for International Earth Science Information Network - CIESIN - Columbia University, and CUNY Institute for Demographic Research - CIDR - City University of New York. Published by NASA Socioeconomic Data and Applications Center (SEDAC). Version: 3.00. Learn more: https://doi.org/10.7927/d1x1-d702<br/><img src='https://www.arcgis.com/home/js/jsapi/esri/css/images/item_type_icons/imagery16.png' style=\"vertical-align:middle;\" width=16 height=16>Imagery Layer by NASA_Earthdata\n",
       "                        <br/>Last Modified: April 18, 2024\n",
       "                        <br/>0 comments, 4910 views\n",
       "                    </div>\n",
       "                </div>\n",
       "                "
      ],
      "text/plain": [
       "<Item title:\"Low Elevation Coastal Zones derived from MERIT-DEM\" type:Imagery Layer owner:NASA_Earthdata>"
      ]
     },
     "metadata": {},
     "output_type": "display_data"
    },
    {
     "data": {
      "text/html": [
       "<div class=\"item_container\" style=\"height: auto; overflow: hidden; border: 1px solid #cfcfcf; border-radius: 2px; background: #f6fafa; line-height: 1.21429em; padding: 10px;\">\n",
       "                    <div class=\"item_left\" style=\"width: 210px; float: left;\">\n",
       "                       <a href='https://www.arcgis.com/home/item.html?id=d7f27f6a76de400c91aebefd65b17166' target='_blank'>\n",
       "                        <img src='https://www.arcgis.com/sharing/rest//content/items/d7f27f6a76de400c91aebefd65b17166/info/thumbnail/thumbnail1694819113572.png' class=\"itemThumbnail\">\n",
       "                       </a>\n",
       "                    </div>\n",
       "\n",
       "                    <div class=\"item_right\"     style=\"float: none; width: auto; overflow: hidden;\">\n",
       "                        <a href='https://www.arcgis.com/home/item.html?id=d7f27f6a76de400c91aebefd65b17166' target='_blank'><b>Global population living within 10m of sea level (2015)</b>\n",
       "                        </a>\n",
       "                        <br/>Derived by clipping the 2015 CIESIN GPWv4.11 population data with the LECZ (low elevation coastal zone) data.<br/><img src='https://www.arcgis.com/home/js/jsapi/esri/css/images/item_type_icons/tiledimagerylayer16.png' style=\"vertical-align:middle;\" width=16 height=16>Tiled Imagery Layer by dasbury_storymaps\n",
       "                        <br/>Last Modified: September 20, 2023\n",
       "                        <br/>0 comments, 8640 views\n",
       "                    </div>\n",
       "                </div>\n",
       "                "
      ],
      "text/plain": [
       "<Item title:\"Global population living within 10m of sea level (2015)\" type:Tiled Imagery Layer owner:dasbury_storymaps>"
      ]
     },
     "metadata": {},
     "output_type": "display_data"
    }
   ],
   "source": [
    "lecz_layer = gis.content.search(\"Low Elevation Coastal Zones derived from MERIT-DEM\", item_type=\"Imagery Layer\")\n",
    "for item in lecz_layer:\n",
    "    display(item)\n",
    "lecz = lecz_layer[0]"
   ]
  },
  {
   "cell_type": "code",
   "execution_count": 58,
   "metadata": {},
   "outputs": [
    {
     "ename": "ValueError",
     "evalue": "'layer' must be one of these types: CatalogFootprintLayer, CSVLayer, FeatureLayer, GeoJSONLayer, KnowledgeGraphSublayer, OGCFeatureLayer, OrientedImageryLayer, SceneLayer, StreamLayer, WFSLayer",
     "output_type": "error",
     "traceback": [
      "\u001b[1;31m---------------------------------------------------------------------------\u001b[0m",
      "\u001b[1;31mValueError\u001b[0m                                Traceback (most recent call last)",
      "File \u001b[1;32mc:\\Users\\hidey\\anaconda3\\envs\\dev-env\\Lib\\site-packages\\ipywidgets\\widgets\\widget.py:773\u001b[0m, in \u001b[0;36mWidget._handle_msg\u001b[1;34m(self, msg)\u001b[0m\n\u001b[0;32m    771\u001b[0m         \u001b[38;5;28;01mif\u001b[39;00m \u001b[38;5;124m'\u001b[39m\u001b[38;5;124mbuffer_paths\u001b[39m\u001b[38;5;124m'\u001b[39m \u001b[38;5;129;01min\u001b[39;00m data:\n\u001b[0;32m    772\u001b[0m             _put_buffers(state, data[\u001b[38;5;124m'\u001b[39m\u001b[38;5;124mbuffer_paths\u001b[39m\u001b[38;5;124m'\u001b[39m], msg[\u001b[38;5;124m'\u001b[39m\u001b[38;5;124mbuffers\u001b[39m\u001b[38;5;124m'\u001b[39m])\n\u001b[1;32m--> 773\u001b[0m         \u001b[38;5;28mself\u001b[39m\u001b[38;5;241m.\u001b[39mset_state(state)\n\u001b[0;32m    775\u001b[0m \u001b[38;5;66;03m# Handle a state request.\u001b[39;00m\n\u001b[0;32m    776\u001b[0m \u001b[38;5;28;01melif\u001b[39;00m method \u001b[38;5;241m==\u001b[39m \u001b[38;5;124m'\u001b[39m\u001b[38;5;124mrequest_state\u001b[39m\u001b[38;5;124m'\u001b[39m:\n",
      "File \u001b[1;32mc:\\Users\\hidey\\anaconda3\\envs\\dev-env\\Lib\\site-packages\\ipywidgets\\widgets\\widget.py:650\u001b[0m, in \u001b[0;36mWidget.set_state\u001b[1;34m(self, sync_data)\u001b[0m\n\u001b[0;32m    645\u001b[0m         \u001b[38;5;28mself\u001b[39m\u001b[38;5;241m.\u001b[39m_send(msg, buffers\u001b[38;5;241m=\u001b[39mecho_buffers)\n\u001b[0;32m    647\u001b[0m \u001b[38;5;66;03m# The order of these context managers is important. Properties must\u001b[39;00m\n\u001b[0;32m    648\u001b[0m \u001b[38;5;66;03m# be locked when the hold_trait_notification context manager is\u001b[39;00m\n\u001b[0;32m    649\u001b[0m \u001b[38;5;66;03m# released and notifications are fired.\u001b[39;00m\n\u001b[1;32m--> 650\u001b[0m \u001b[38;5;28;01mwith\u001b[39;00m \u001b[38;5;28mself\u001b[39m\u001b[38;5;241m.\u001b[39m_lock_property(\u001b[38;5;241m*\u001b[39m\u001b[38;5;241m*\u001b[39msync_data), \u001b[38;5;28mself\u001b[39m\u001b[38;5;241m.\u001b[39mhold_trait_notifications():\n\u001b[0;32m    651\u001b[0m     \u001b[38;5;28;01mfor\u001b[39;00m name \u001b[38;5;129;01min\u001b[39;00m sync_data:\n\u001b[0;32m    652\u001b[0m         \u001b[38;5;28;01mif\u001b[39;00m name \u001b[38;5;129;01min\u001b[39;00m \u001b[38;5;28mself\u001b[39m\u001b[38;5;241m.\u001b[39mkeys:\n",
      "File \u001b[1;32mc:\\Users\\hidey\\anaconda3\\envs\\dev-env\\Lib\\contextlib.py:144\u001b[0m, in \u001b[0;36m_GeneratorContextManager.__exit__\u001b[1;34m(self, typ, value, traceback)\u001b[0m\n\u001b[0;32m    142\u001b[0m \u001b[38;5;28;01mif\u001b[39;00m typ \u001b[38;5;129;01mis\u001b[39;00m \u001b[38;5;28;01mNone\u001b[39;00m:\n\u001b[0;32m    143\u001b[0m     \u001b[38;5;28;01mtry\u001b[39;00m:\n\u001b[1;32m--> 144\u001b[0m         \u001b[38;5;28mnext\u001b[39m(\u001b[38;5;28mself\u001b[39m\u001b[38;5;241m.\u001b[39mgen)\n\u001b[0;32m    145\u001b[0m     \u001b[38;5;28;01mexcept\u001b[39;00m \u001b[38;5;167;01mStopIteration\u001b[39;00m:\n\u001b[0;32m    146\u001b[0m         \u001b[38;5;28;01mreturn\u001b[39;00m \u001b[38;5;28;01mFalse\u001b[39;00m\n",
      "File \u001b[1;32mc:\\Users\\hidey\\anaconda3\\envs\\dev-env\\Lib\\site-packages\\traitlets\\traitlets.py:1510\u001b[0m, in \u001b[0;36mHasTraits.hold_trait_notifications\u001b[1;34m(self)\u001b[0m\n\u001b[0;32m   1508\u001b[0m \u001b[38;5;28;01mfor\u001b[39;00m changes \u001b[38;5;129;01min\u001b[39;00m cache\u001b[38;5;241m.\u001b[39mvalues():\n\u001b[0;32m   1509\u001b[0m     \u001b[38;5;28;01mfor\u001b[39;00m change \u001b[38;5;129;01min\u001b[39;00m changes:\n\u001b[1;32m-> 1510\u001b[0m         \u001b[38;5;28mself\u001b[39m\u001b[38;5;241m.\u001b[39mnotify_change(change)\n",
      "File \u001b[1;32mc:\\Users\\hidey\\anaconda3\\envs\\dev-env\\Lib\\site-packages\\ipywidgets\\widgets\\widget.py:701\u001b[0m, in \u001b[0;36mWidget.notify_change\u001b[1;34m(self, change)\u001b[0m\n\u001b[0;32m    698\u001b[0m     \u001b[38;5;28;01mif\u001b[39;00m name \u001b[38;5;129;01min\u001b[39;00m \u001b[38;5;28mself\u001b[39m\u001b[38;5;241m.\u001b[39mkeys \u001b[38;5;129;01mand\u001b[39;00m \u001b[38;5;28mself\u001b[39m\u001b[38;5;241m.\u001b[39m_should_send_property(name, \u001b[38;5;28mgetattr\u001b[39m(\u001b[38;5;28mself\u001b[39m, name)):\n\u001b[0;32m    699\u001b[0m         \u001b[38;5;66;03m# Send new state to front-end\u001b[39;00m\n\u001b[0;32m    700\u001b[0m         \u001b[38;5;28mself\u001b[39m\u001b[38;5;241m.\u001b[39msend_state(key\u001b[38;5;241m=\u001b[39mname)\n\u001b[1;32m--> 701\u001b[0m \u001b[38;5;28msuper\u001b[39m()\u001b[38;5;241m.\u001b[39mnotify_change(change)\n",
      "File \u001b[1;32mc:\\Users\\hidey\\anaconda3\\envs\\dev-env\\Lib\\site-packages\\traitlets\\traitlets.py:1525\u001b[0m, in \u001b[0;36mHasTraits.notify_change\u001b[1;34m(self, change)\u001b[0m\n\u001b[0;32m   1523\u001b[0m \u001b[38;5;28;01mdef\u001b[39;00m \u001b[38;5;21mnotify_change\u001b[39m(\u001b[38;5;28mself\u001b[39m, change: Bunch) \u001b[38;5;241m-\u001b[39m\u001b[38;5;241m>\u001b[39m \u001b[38;5;28;01mNone\u001b[39;00m:\n\u001b[0;32m   1524\u001b[0m \u001b[38;5;250m    \u001b[39m\u001b[38;5;124;03m\"\"\"Notify observers of a change event\"\"\"\u001b[39;00m\n\u001b[1;32m-> 1525\u001b[0m     \u001b[38;5;28;01mreturn\u001b[39;00m \u001b[38;5;28mself\u001b[39m\u001b[38;5;241m.\u001b[39m_notify_observers(change)\n",
      "File \u001b[1;32mc:\\Users\\hidey\\anaconda3\\envs\\dev-env\\Lib\\site-packages\\traitlets\\traitlets.py:1568\u001b[0m, in \u001b[0;36mHasTraits._notify_observers\u001b[1;34m(self, event)\u001b[0m\n\u001b[0;32m   1565\u001b[0m \u001b[38;5;28;01melif\u001b[39;00m \u001b[38;5;28misinstance\u001b[39m(c, EventHandler) \u001b[38;5;129;01mand\u001b[39;00m c\u001b[38;5;241m.\u001b[39mname \u001b[38;5;129;01mis\u001b[39;00m \u001b[38;5;129;01mnot\u001b[39;00m \u001b[38;5;28;01mNone\u001b[39;00m:\n\u001b[0;32m   1566\u001b[0m     c \u001b[38;5;241m=\u001b[39m \u001b[38;5;28mgetattr\u001b[39m(\u001b[38;5;28mself\u001b[39m, c\u001b[38;5;241m.\u001b[39mname)\n\u001b[1;32m-> 1568\u001b[0m c(event)\n",
      "File \u001b[1;32mc:\\Users\\hidey\\anaconda3\\envs\\dev-env\\Lib\\site-packages\\arcgis\\map\\map_widget.py:295\u001b[0m, in \u001b[0;36mMap._renderer_changed\u001b[1;34m(self, change)\u001b[0m\n\u001b[0;32m    293\u001b[0m \u001b[38;5;66;03m# Check if an error is returned from the JS side\u001b[39;00m\n\u001b[0;32m    294\u001b[0m \u001b[38;5;28;01mif\u001b[39;00m \u001b[38;5;124m\"\u001b[39m\u001b[38;5;124merror\u001b[39m\u001b[38;5;124m\"\u001b[39m \u001b[38;5;129;01min\u001b[39;00m change[\u001b[38;5;124m\"\u001b[39m\u001b[38;5;124mnew\u001b[39m\u001b[38;5;124m\"\u001b[39m]:\n\u001b[1;32m--> 295\u001b[0m     \u001b[38;5;28;01mraise\u001b[39;00m \u001b[38;5;167;01mValueError\u001b[39;00m(change[\u001b[38;5;124m\"\u001b[39m\u001b[38;5;124mnew\u001b[39m\u001b[38;5;124m\"\u001b[39m][\u001b[38;5;124m\"\u001b[39m\u001b[38;5;124merror\u001b[39m\u001b[38;5;124m\"\u001b[39m])\n\u001b[0;32m    297\u001b[0m \u001b[38;5;66;03m# use the layer id in the smart mapping params and update the corresponding layer\u001b[39;00m\n\u001b[0;32m    298\u001b[0m \u001b[38;5;28;01mif\u001b[39;00m \u001b[38;5;28mself\u001b[39m\u001b[38;5;241m.\u001b[39m_smart_mapping_renderer:\n",
      "\u001b[1;31mValueError\u001b[0m: 'layer' must be one of these types: CatalogFootprintLayer, CSVLayer, FeatureLayer, GeoJSONLayer, KnowledgeGraphSublayer, OGCFeatureLayer, OrientedImageryLayer, SceneLayer, StreamLayer, WFSLayer"
     ]
    }
   ],
   "source": [
    "m1 = Map(\"Puerto Rico\")\n",
    "m1.content.add(lecz)\n",
    "m1.content.add(pr_sedf, options= {\"opacity\": 0.75})\n"
   ]
  },
  {
   "cell_type": "code",
   "execution_count": 60,
   "metadata": {},
   "outputs": [],
   "source": [
    "renderer_manager = m1.content.renderer(0)\n",
    "smart_mapping_manager = renderer_manager.smart_mapping()\n",
    "smart_mapping_manager.class_breaks_renderer(\n",
    "    break_type=\"color\",\n",
    "    field=\"Vacant\",\n",
    ")"
   ]
  },
  {
   "cell_type": "code",
   "execution_count": 9,
   "metadata": {},
   "outputs": [],
   "source": [
    "from arcgis.map.renderers import (\n",
    "    ClassBreaksRenderer,\n",
    "    ClassBreakInfo,\n",
    "    UniqueValueRenderer,\n",
    "    UniqueValueInfo,\n",
    "    SizeInfoVisualVariable,\n",
    ")\n",
    "\n",
    "from arcgis.map.symbols import SimpleLineSymbolEsriSLS, SimpleFillSymbolEsriSFS\n",
    "\n",
    "class_break_infos = [\n",
    "    ClassBreakInfo(\n",
    "        class_max_value=5,\n",
    "        label= \"< 5m\",\n",
    "        symbol= SimpleFillSymbolEsriSFS(\n",
    "            **{\n",
    "                \"type\":\"esriSFS\",\n",
    "                \"style\": \"esriSFSSolid\",\n",
    "                \"color\": [0,77, 230],\n",
    "                \"outline\": {\"color\" : [153, 153, 153, 255], \"width\": 0.5},\n",
    "            }\n",
    "        ),\n",
    "    ),\n",
    "    ClassBreakInfo(\n",
    "        class_max_value=10,\n",
    "        label= \"< 10m\",\n",
    "        symbol= SimpleFillSymbolEsriSFS(\n",
    "            **{\n",
    "                \"type\":\"esriSFS\",\n",
    "                \"style\": \"esriSFSSolid\",\n",
    "                \"color\": [77, 166, 255],\n",
    "                \"outline\": {\"color\" : [153, 153, 153, 255], \"width\": 0.5},\n",
    "            }\n",
    "        ),\n",
    "    ),\n",
    "]\n",
    "\n",
    "class_break_renderer = ClassBreaksRenderer(\n",
    "    field=\"Vacant\",\n",
    "    class_break_infos=class_break_infos,\n",
    "    normalizationType= None,\n",
    ")"
   ]
  },
  {
   "cell_type": "code",
   "execution_count": 13,
   "metadata": {},
   "outputs": [],
   "source": [
    "m2 = Map(\"Puerto Rico\")\n",
    "m2.content.add(pr_sedf, drawing_info={\"renderer\":class_break_renderer.dict()})"
   ]
  },
  {
   "cell_type": "code",
   "execution_count": 14,
   "metadata": {},
   "outputs": [
    {
     "data": {
      "application/vnd.jupyter.widget-view+json": {
       "model_id": "151f111a014149729f5f278d367f8980",
       "version_major": 2,
       "version_minor": 1
      },
      "text/plain": [
       "Map(center=[2063620.7690671808, -7399290.049500733], extent={'xmin': -7498920.993760712, 'ymin': 1958993.94058…"
      ]
     },
     "execution_count": 14,
     "metadata": {},
     "output_type": "execute_result"
    }
   ],
   "source": [
    "m2"
   ]
  },
  {
   "cell_type": "code",
   "execution_count": 17,
   "metadata": {},
   "outputs": [
    {
     "data": {
      "text/html": [
       "<div>\n",
       "<style scoped>\n",
       "    .dataframe tbody tr th:only-of-type {\n",
       "        vertical-align: middle;\n",
       "    }\n",
       "\n",
       "    .dataframe tbody tr th {\n",
       "        vertical-align: top;\n",
       "    }\n",
       "\n",
       "    .dataframe thead th {\n",
       "        text-align: right;\n",
       "    }\n",
       "</style>\n",
       "<table border=\"1\" class=\"dataframe\">\n",
       "  <thead>\n",
       "    <tr style=\"text-align: right;\">\n",
       "      <th></th>\n",
       "      <th>Total_Housing</th>\n",
       "      <th>Vacant</th>\n",
       "    </tr>\n",
       "  </thead>\n",
       "  <tbody>\n",
       "    <tr>\n",
       "      <th>0</th>\n",
       "      <td>68</td>\n",
       "      <td>8</td>\n",
       "    </tr>\n",
       "    <tr>\n",
       "      <th>1</th>\n",
       "      <td>46</td>\n",
       "      <td>1</td>\n",
       "    </tr>\n",
       "    <tr>\n",
       "      <th>2</th>\n",
       "      <td>13</td>\n",
       "      <td>0</td>\n",
       "    </tr>\n",
       "    <tr>\n",
       "      <th>3</th>\n",
       "      <td>22</td>\n",
       "      <td>11</td>\n",
       "    </tr>\n",
       "    <tr>\n",
       "      <th>4</th>\n",
       "      <td>43</td>\n",
       "      <td>11</td>\n",
       "    </tr>\n",
       "    <tr>\n",
       "      <th>...</th>\n",
       "      <td>...</td>\n",
       "      <td>...</td>\n",
       "    </tr>\n",
       "    <tr>\n",
       "      <th>41315</th>\n",
       "      <td>6</td>\n",
       "      <td>6</td>\n",
       "    </tr>\n",
       "    <tr>\n",
       "      <th>41316</th>\n",
       "      <td>4</td>\n",
       "      <td>3</td>\n",
       "    </tr>\n",
       "    <tr>\n",
       "      <th>41317</th>\n",
       "      <td>27</td>\n",
       "      <td>0</td>\n",
       "    </tr>\n",
       "    <tr>\n",
       "      <th>41318</th>\n",
       "      <td>111</td>\n",
       "      <td>22</td>\n",
       "    </tr>\n",
       "    <tr>\n",
       "      <th>41319</th>\n",
       "      <td>0</td>\n",
       "      <td>0</td>\n",
       "    </tr>\n",
       "  </tbody>\n",
       "</table>\n",
       "<p>41320 rows × 2 columns</p>\n",
       "</div>"
      ],
      "text/plain": [
       "       Total_Housing  Vacant\n",
       "0                 68       8\n",
       "1                 46       1\n",
       "2                 13       0\n",
       "3                 22      11\n",
       "4                 43      11\n",
       "...              ...     ...\n",
       "41315              6       6\n",
       "41316              4       3\n",
       "41317             27       0\n",
       "41318            111      22\n",
       "41319              0       0\n",
       "\n",
       "[41320 rows x 2 columns]"
      ]
     },
     "execution_count": 17,
     "metadata": {},
     "output_type": "execute_result"
    }
   ],
   "source": [
    "pr_sedf[[\"Total_Housing\", \"Vacant\"]]"
   ]
  },
  {
   "cell_type": "code",
   "execution_count": null,
   "metadata": {},
   "outputs": [],
   "source": []
  }
 ],
 "metadata": {
  "kernelspec": {
   "display_name": "dev-env",
   "language": "python",
   "name": "python3"
  },
  "language_info": {
   "codemirror_mode": {
    "name": "ipython",
    "version": 3
   },
   "file_extension": ".py",
   "mimetype": "text/x-python",
   "name": "python",
   "nbconvert_exporter": "python",
   "pygments_lexer": "ipython3",
   "version": "3.12.9"
  }
 },
 "nbformat": 4,
 "nbformat_minor": 2
}
