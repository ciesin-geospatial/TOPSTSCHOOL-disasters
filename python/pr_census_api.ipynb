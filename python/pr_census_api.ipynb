{
 "cells": [
  {
   "cell_type": "code",
   "execution_count": 15,
   "metadata": {},
   "outputs": [
    {
     "name": "stdout",
     "output_type": "stream",
     "text": [
      "Requirement already satisfied: psutil in d:\\pro\\bin\\python\\envs\\arcgispro-py3\\lib\\site-packages (5.9.0)\n"
     ]
    }
   ],
   "source": [
    "!pip install psutil"
   ]
  },
  {
   "cell_type": "code",
   "execution_count": 61,
   "metadata": {},
   "outputs": [],
   "source": [
    "import censusdis.data as ced\n",
    "import censusdis.maps as cem\n",
    "from censusdis import states\n",
    "import mapclassify, folium, matplotlib.pyplot as plt\n",
    "from dotenv import load_dotenv\n",
    "import os\n",
    "import psutil"
   ]
  },
  {
   "cell_type": "code",
   "execution_count": null,
   "metadata": {},
   "outputs": [
    {
     "name": "stdout",
     "output_type": "stream",
     "text": [
      "\f\n",
      "TUsed Cache Memory: 13765.24 MB\n",
      "Available Cache Memory: 51770.25 MB\n"
     ]
    }
   ],
   "source": [
    "\n",
    "%clear\n",
    "#Function to check memory usage\n",
    "\n",
    "def check_memory_usage():\n",
    "    # Get virtual memory details\n",
    "    virtual_memory = psutil.virtual_memory()\n",
    "\n",
    "    # Print cache memory details\n",
    "    print(f\"TUsed Cache Memory: {virtual_memory.used / (1024 ** 2):.2f} MB\")\n",
    "    print(f\"Available Cache Memory: {virtual_memory.available / (1024 ** 2):.2f} MB\")\n",
    "\n",
    "check_memory_usage()\n"
   ]
  },
  {
   "cell_type": "code",
   "execution_count": 8,
   "metadata": {},
   "outputs": [],
   "source": [
    "#Variables to use to pull data from the Census API\n",
    "#We're using the 2020 Decenial Census and the Demographic and Housing Characteristics dataset\n",
    "\n",
    "\n",
    "YEAR = 2020\n",
    "DATASET = 'dec/dhc' "
   ]
  },
  {
   "cell_type": "code",
   "execution_count": 44,
   "metadata": {},
   "outputs": [
    {
     "name": "stdout",
     "output_type": "stream",
     "text": [
      "Wall time: 15.5 s\n"
     ]
    }
   ],
   "source": [
    "%%time\n",
    "\n",
    "# Set the environment variable (for testing purposes)\n",
    "load_dotenv()\n",
    "\n",
    "# Retrieve the API key from the environment variable\n",
    "CENSUS_API_KEY = os.getenv(\"CENSUS_API_KEY\")\n",
    "\n",
    "totalpop = \"P1_001N\"\n",
    "vacant = \"H5_006N\"\n",
    "hhunit = \"H1_001N\"\n",
    "\n",
    "targeted_state = states.PR\n",
    "variables = [\"NAME\", \"GEO_ID\", totalpop, vacant, hhunit]\n",
    "\n",
    "pr_block = ced.download(\n",
    "    DATASET,\n",
    "    YEAR,\n",
    "    variables,\n",
    "    state=targeted_state,\n",
    "    block=\"*\",\n",
    "    with_geometry=True,\n",
    "    tiger_shapefiles_only=True,\n",
    "    api_key = CENSUS_API_KEY,\n",
    "    # remove_water = True,\n",
    ")\n",
    "\n",
    "\n",
    "pr_county = ced.download(\n",
    "    DATASET,\n",
    "    YEAR,\n",
    "    variables,\n",
    "    state=targeted_state,\n",
    "    county=\"*\",\n",
    "    with_geometry=True,\n",
    "    tiger_shapefiles_only=True,\n",
    "    api_key = CENSUS_API_KEY,\n",
    "    # remove_water = True,\n",
    ")\n"
   ]
  },
  {
   "cell_type": "code",
   "execution_count": null,
   "metadata": {},
   "outputs": [],
   "source": [
    "%%time\n",
    "\n",
    "#With tiger shapefiles variable\n",
    "\n",
    "# Plot the map with the given parameters\n",
    "ax = cem.plot_map(pr_block, \n",
    "                    column=gdf_pr[vacant]/gdf_pr[hhunit]*100, \n",
    "                    # edgecolor=\"black\", \n",
    "                    cmap=\"Purples\", \n",
    "                    legend=True, \n",
    "                    figsize=(20, 20)\n",
    "                    )\n",
    "_ = ax.set_title(\"Percentage of vacant housing units in Puerto Rico\")\n",
    "\n",
    "#Add county boundary to the map\n",
    "\n",
    "ax = cem.plot_map(pr_county.boundary, color=\"grey\", linewidth=0.5, ax=ax)\n"
   ]
  },
  {
   "cell_type": "code",
   "execution_count": null,
   "metadata": {},
   "outputs": [],
   "source": [
    "%%time\n",
    "\n",
    "ax = cem.plot_map(gdf_pr, \n",
    "                    column=gdf_pr[vacant]/gdf_pr[hhunit]*100, \n",
    "                    edgecolor=\"black\", \n",
    "                    cmap=\"Purples\", \n",
    "                    legend=True, \n",
    "                    figsize=(20, 20)\n",
    "                    )\n",
    "\n",
    "_ = ax.set_title(\"Percentage of vacant housing units in Puerto Rico\")\n"
   ]
  },
  {
   "cell_type": "code",
   "execution_count": 42,
   "metadata": {},
   "outputs": [
    {
     "data": {
      "text/html": [
       "<div>\n",
       "<style scoped>\n",
       "    .dataframe tbody tr th:only-of-type {\n",
       "        vertical-align: middle;\n",
       "    }\n",
       "\n",
       "    .dataframe tbody tr th {\n",
       "        vertical-align: top;\n",
       "    }\n",
       "\n",
       "    .dataframe thead th {\n",
       "        text-align: right;\n",
       "    }\n",
       "</style>\n",
       "<table border=\"1\" class=\"dataframe\">\n",
       "  <thead>\n",
       "    <tr style=\"text-align: right;\">\n",
       "      <th></th>\n",
       "      <th>STATE</th>\n",
       "      <th>COUNTY</th>\n",
       "      <th>TRACT</th>\n",
       "      <th>BLOCK</th>\n",
       "      <th>NAME</th>\n",
       "      <th>GEO_ID</th>\n",
       "      <th>P1_001N</th>\n",
       "      <th>H5_006N</th>\n",
       "      <th>H1_001N</th>\n",
       "      <th>geometry</th>\n",
       "    </tr>\n",
       "  </thead>\n",
       "  <tbody>\n",
       "    <tr>\n",
       "      <th>0</th>\n",
       "      <td>72</td>\n",
       "      <td>029</td>\n",
       "      <td>100101</td>\n",
       "      <td>1024</td>\n",
       "      <td>Block 1024, Block Group 1, Census Tract 1001.0...</td>\n",
       "      <td>1000000US720291001011024</td>\n",
       "      <td>0</td>\n",
       "      <td>0</td>\n",
       "      <td>0</td>\n",
       "      <td>POLYGON ((-65.88612 18.38389, -65.88284 18.385...</td>\n",
       "    </tr>\n",
       "    <tr>\n",
       "      <th>1</th>\n",
       "      <td>72</td>\n",
       "      <td>029</td>\n",
       "      <td>100101</td>\n",
       "      <td>2000</td>\n",
       "      <td>Block 2000, Block Group 2, Census Tract 1001.0...</td>\n",
       "      <td>1000000US720291001012000</td>\n",
       "      <td>21</td>\n",
       "      <td>0</td>\n",
       "      <td>14</td>\n",
       "      <td>POLYGON ((-65.88592 18.39874, -65.88557 18.398...</td>\n",
       "    </tr>\n",
       "    <tr>\n",
       "      <th>2</th>\n",
       "      <td>72</td>\n",
       "      <td>029</td>\n",
       "      <td>100101</td>\n",
       "      <td>2001</td>\n",
       "      <td>Block 2001, Block Group 2, Census Tract 1001.0...</td>\n",
       "      <td>1000000US720291001012001</td>\n",
       "      <td>68</td>\n",
       "      <td>0</td>\n",
       "      <td>33</td>\n",
       "      <td>POLYGON ((-65.88761 18.39821, -65.88698 18.398...</td>\n",
       "    </tr>\n",
       "    <tr>\n",
       "      <th>3</th>\n",
       "      <td>72</td>\n",
       "      <td>035</td>\n",
       "      <td>260300</td>\n",
       "      <td>2022</td>\n",
       "      <td>Block 2022, Block Group 2, Census Tract 2603, ...</td>\n",
       "      <td>1000000US720352603002022</td>\n",
       "      <td>51</td>\n",
       "      <td>0</td>\n",
       "      <td>20</td>\n",
       "      <td>POLYGON ((-66.17267 18.11732, -66.17247 18.117...</td>\n",
       "    </tr>\n",
       "    <tr>\n",
       "      <th>4</th>\n",
       "      <td>72</td>\n",
       "      <td>031</td>\n",
       "      <td>051104</td>\n",
       "      <td>2009</td>\n",
       "      <td>Block 2009, Block Group 2, Census Tract 511.04...</td>\n",
       "      <td>1000000US720310511042009</td>\n",
       "      <td>70</td>\n",
       "      <td>5</td>\n",
       "      <td>26</td>\n",
       "      <td>POLYGON ((-65.93122 18.37308, -65.93076 18.373...</td>\n",
       "    </tr>\n",
       "  </tbody>\n",
       "</table>\n",
       "</div>"
      ],
      "text/plain": [
       "  STATE COUNTY   TRACT BLOCK  \\\n",
       "0    72    029  100101  1024   \n",
       "1    72    029  100101  2000   \n",
       "2    72    029  100101  2001   \n",
       "3    72    035  260300  2022   \n",
       "4    72    031  051104  2009   \n",
       "\n",
       "                                                NAME  \\\n",
       "0  Block 1024, Block Group 1, Census Tract 1001.0...   \n",
       "1  Block 2000, Block Group 2, Census Tract 1001.0...   \n",
       "2  Block 2001, Block Group 2, Census Tract 1001.0...   \n",
       "3  Block 2022, Block Group 2, Census Tract 2603, ...   \n",
       "4  Block 2009, Block Group 2, Census Tract 511.04...   \n",
       "\n",
       "                     GEO_ID  P1_001N  H5_006N  H1_001N  \\\n",
       "0  1000000US720291001011024        0        0        0   \n",
       "1  1000000US720291001012000       21        0       14   \n",
       "2  1000000US720291001012001       68        0       33   \n",
       "3  1000000US720352603002022       51        0       20   \n",
       "4  1000000US720310511042009       70        5       26   \n",
       "\n",
       "                                            geometry  \n",
       "0  POLYGON ((-65.88612 18.38389, -65.88284 18.385...  \n",
       "1  POLYGON ((-65.88592 18.39874, -65.88557 18.398...  \n",
       "2  POLYGON ((-65.88761 18.39821, -65.88698 18.398...  \n",
       "3  POLYGON ((-66.17267 18.11732, -66.17247 18.117...  \n",
       "4  POLYGON ((-65.93122 18.37308, -65.93076 18.373...  "
      ]
     },
     "execution_count": 42,
     "metadata": {},
     "output_type": "execute_result"
    }
   ],
   "source": [
    "gdf_pr.head()"
   ]
  },
  {
   "cell_type": "code",
   "execution_count": 37,
   "metadata": {},
   "outputs": [],
   "source": [
    "def check_memory_usage():\n",
    "    # Get virtual memory details\n",
    "    virtual_memory = psutil.virtual_memory()\n",
    "\n",
    "    # Print cache memory details\n",
    "    print(f\"TUsed Cache Memory: {virtual_memory.used / (1024 ** 2):.2f} MB\")\n",
    "    print(f\"Available Cache Memory: {virtual_memory.available / (1024 ** 2):.2f} MB\")\n",
    "\n"
   ]
  },
  {
   "cell_type": "code",
   "execution_count": 38,
   "metadata": {},
   "outputs": [
    {
     "name": "stdout",
     "output_type": "stream",
     "text": [
      "TUsed Cache Memory: 16769.59 MB\n",
      "Available Cache Memory: 48765.90 MB\n"
     ]
    }
   ],
   "source": [
    "check_memory_usage()"
   ]
  },
  {
   "cell_type": "code",
   "execution_count": null,
   "metadata": {},
   "outputs": [],
   "source": []
  }
 ],
 "metadata": {
  "kernelspec": {
   "display_name": "arcgispro-py3",
   "language": "python",
   "name": "python3"
  },
  "language_info": {
   "codemirror_mode": {
    "name": "ipython",
    "version": 3
   },
   "file_extension": ".py",
   "mimetype": "text/x-python",
   "name": "python",
   "nbconvert_exporter": "python",
   "pygments_lexer": "ipython3",
   "version": "3.11.8"
  }
 },
 "nbformat": 4,
 "nbformat_minor": 2
}
