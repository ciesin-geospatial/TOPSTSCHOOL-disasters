{
 "cells": [
  {
   "cell_type": "markdown",
   "id": "bc8ab04c",
   "metadata": {},
   "source": [
    "---\n",
    "title: \"Snow Storms 1990\"\n",
    "author: \n",
    "  - \"Stevaughn Borders\"\n",
    "format: \n",
    "    html\n",
    "---"
   ]
  },
  {
   "cell_type": "code",
   "execution_count": 1,
   "id": "65ca5e2e",
   "metadata": {},
   "outputs": [],
   "source": [
    "import geopandas as gpd"
   ]
  },
  {
   "cell_type": "code",
   "execution_count": 2,
   "id": "dd850165",
   "metadata": {},
   "outputs": [
    {
     "name": "stdout",
     "output_type": "stream",
     "text": [
      "  Net    Lat    Lon                  Name State  Elevation   d1   d2   d3  \\\n",
      "0   C  35.45 -92.40            BEE BRANCH    AR      198.1  0.0  0.0  4.0   \n",
      "1   C  35.08 -92.43                CONWAY    AR       96.0  0.0  0.0  2.0   \n",
      "2   C  36.08 -94.17          FAYETTEVILLE    AR      418.0  0.0  0.0  2.5   \n",
      "3   C  36.10 -94.17  FAYETTEVILLE EXP STN    AR      387.0  0.0  0.0  2.5   \n",
      "4   C  34.48 -91.53             STUTTGART    AR       65.0  0.0  0.0  0.2   \n",
      "\n",
      "    d4   d5   d6  snowfall     GHCND_ID             STORM_ID START_DATE  \\\n",
      "0  0.0  0.0  0.0       4.0  USC00030528  19000226_19000303_1 1900-02-26   \n",
      "1  0.0  0.0  0.0       2.0  USC00031596  19000226_19000303_1 1900-02-26   \n",
      "2  0.0  0.0  0.0       2.5  USC00032442  19000226_19000303_1 1900-02-26   \n",
      "3  0.0  0.0  0.0       2.5  USC00032444  19000226_19000303_1 1900-02-26   \n",
      "4  0.0  0.0  0.0       0.2  USC00036918  19000226_19000303_1 1900-02-26   \n",
      "\n",
      "    END_DATE                        geometry  \n",
      "0 1900-03-03  POINT (323876.643 -223490.835)  \n",
      "1 1900-03-03  POINT (322734.114 -264971.665)  \n",
      "2 1900-03-03  POINT (163308.307 -157517.397)  \n",
      "3 1900-03-03  POINT (163265.179 -155278.009)  \n",
      "4 1900-03-03  POINT (407197.398 -328571.755)  \n"
     ]
    }
   ],
   "source": [
    "gdf = gpd.read_file(\"data/snow-storms/Snow_19000226_19000303_1.shp\") # Display the first few rows of the GeoDataFrame print(gdf.head())\n",
    "print(gdf.head())"
   ]
  }
 ],
 "metadata": {
  "kernelspec": {
   "display_name": "Python 3 (ipykernel)",
   "language": "python",
   "name": "python3",
   "path": "C:\\Users\\jmartine\\AppData\\Roaming\\jupyter\\kernels\\python3"
  },
  "language_info": {
   "codemirror_mode": {
    "name": "ipython",
    "version": 3
   },
   "file_extension": ".py",
   "mimetype": "text/x-python",
   "name": "python",
   "nbconvert_exporter": "python",
   "pygments_lexer": "ipython3",
   "version": "3.11.9"
  }
 },
 "nbformat": 4,
 "nbformat_minor": 5
}
