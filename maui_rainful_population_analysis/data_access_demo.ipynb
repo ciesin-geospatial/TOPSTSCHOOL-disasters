{
 "cells": [
  {
   "cell_type": "code",
   "execution_count": null,
   "id": "ef752701",
   "metadata": {
    "vscode": {
     "languageId": "plaintext"
    }
   },
   "outputs": [],
   "source": [
    "# Maui Rainfall and Flood Analysis – Data Access Demo\n",
    "\n",
    "This notebook demonstrates how to access real precipitation data and remote sensing imagery for Maui, Hawaii, using public data sources and Google Earth Engine.\n",
    "\n",
    "---\n",
    "\n",
    "## 1. Precipitation Data\n",
    "\n",
    "### A. NOAA NCEI (API Example)\n",
    "### B. MesoWest (Manual Download)\n",
    "\n",
    "- Go to [MesoWest Hawaii](https://mesowest.utah.edu/cgi-bin/droman/mesomap.cgi?state=HI&rawsflag=3)\n",
    "- Click on a Maui station, select \"Download Data,\" and save as CSV.\n",
    "- Load the CSV in Python:\n",
    "\n",
    "---\n",
    "\n",
    "## 2. Remote Sensing Data\n",
    "\n",
    "### A. Landsat and MODIS via Google Earth Engine\n",
    "\n",
    "You need to [install the Earth Engine Python API](https://developers.google.com/earth-engine/python_install) and authenticate.\n",
    "### B. MODIS Land Cover Example\n",
    "\n",
    "---\n",
    "\n",
    "## 3. Resource Links\n",
    "\n",
    "- **Landsat Band Combinations:** https://landsat.gsfc.nasa.gov/apps/bandcombination/\n",
    "- **MODIS Home:** https://modis.gsfc.nasa.gov\n",
    "- **Earth Engine MODIS:** https://developers.google.com/earth-engine/datasets/catalog/modis\n",
    "- **Earth Engine Landsat:** https://developers.google.com/earth-engine/datasets/catalog/landsat\n",
    "- **MesoWest Precipitation:** https://mesowest.utah.edu/cgi-bin/droman/mesomap.cgi?state=HI&rawsflag=3\n",
    "- **NOAA NCEI Precipitation:** https://www.ncei.noaa.gov/access\n",
    "- **NWS Precipitation:** https://www.weather.gov/marfc/DailyPrecipitation\n",
    "\n",
    "---\n",
    "\n",
    "## Notes\n",
    "\n",
    "- For NOAA NCEI, register for a free API token: https://www.ncdc.noaa.gov/cdo-web/token\n",
    "- For Google Earth Engine, register for access and follow the [Python API setup](https://developers.google.com/earth-engine/python_install).\n",
    "- For MesoWest, data is downloaded manually per station.\n",
    "\n",
    "---\n",
    "\n",
    "*This notebook provides a foundation for accessing and analyzing rainfall and remote sensing data for disaster impact assessment in Maui. Expand with your own analysis and visualizations as needed!*"
   ]
  }
 ],
 "metadata": {
  "language_info": {
   "name": "python"
  }
 },
 "nbformat": 4,
 "nbformat_minor": 5
}
